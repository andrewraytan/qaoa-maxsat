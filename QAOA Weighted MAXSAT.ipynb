{
 "cells": [
  {
   "cell_type": "markdown",
   "metadata": {},
   "source": [
    "# QAOA Weighted MAXSAT\n",
    "\n",
    "Gahwon Lee, Andrew Tan"
   ]
  },
  {
   "cell_type": "code",
   "execution_count": 21,
   "metadata": {},
   "outputs": [],
   "source": [
    "import qiskit\n",
    "import numpy as np\n",
    "import random as rand\n",
    "import math\n",
    "import matplotlib.pyplot as plt\n",
    "from mpl_toolkits.mplot3d import Axes3D"
   ]
  },
  {
   "cell_type": "markdown",
   "metadata": {},
   "source": [
    "## Introduction"
   ]
  },
  {
   "cell_type": "markdown",
   "metadata": {},
   "source": [
    "### Weighted MAXSAT\n",
    "\n",
    "Given a boolean formula in conjunctive normal form as well as weights to each clause, find the set of boolean variables that maximize the weights. For example, if a clause with weight 3 is true, then add 3 to the total weight.\n",
    "\n",
    "There are variants MAXSAT that further restrict the input space. For example, 3-SAT is a similar problem except that each clause can contain exactly three boolean variables."
   ]
  },
  {
   "cell_type": "markdown",
   "metadata": {},
   "source": [
    "### QAOA\n",
    "\n",
    "Quantum Approximation Optimization Algorithm is designed to approximate the Quantum Adiabatic Algorithm by splitting up different time slices into separate gates. Since it approximates the QAA, as the number of gates increases to infinity, the QAOA result will also increase to the ideal state."
   ]
  },
  {
   "cell_type": "markdown",
   "metadata": {},
   "source": [
    "## Methods"
   ]
  },
  {
   "cell_type": "markdown",
   "metadata": {},
   "source": [
    "### Encoding Qubits\n",
    "\n",
    "The bitstring corresponding to the output of QAOA will be the input qubits. Each qubit will either be 1 for true or 0 for false. "
   ]
  },
  {
   "cell_type": "markdown",
   "metadata": {},
   "source": [
    "### Cost and Driver Hamiltonians *C* and *B*\n",
    "\n",
    "(3-SAT) $C = \\sum_{m=0}^M I-\\frac{1}{2}((I_1 \\pm Z_1)\\otimes (I_2 \\pm Z_2)\\otimes (I_3 \\pm Z_3))$\n",
    "\n",
    "(2-SAT) $C = \\sum_{m=0}^M I-\\frac{1}{2}((I_1 \\pm Z_1)\\otimes (I_2 \\pm Z_2))$\n",
    "\n",
    "$B = \\sum_{k=0}^{n-1} X_k$"
   ]
  },
  {
   "cell_type": "markdown",
   "metadata": {},
   "source": [
    "### Driver Gate W\n",
    "\n",
    "$W(\\beta) = \\prod_{k=0}^{n-1}H_k \\prod_{k=1}^{n-1}C_{k,0}^{X}    U_{0}(2\\beta) \\prod_{k=1}^{n-1}C_{k,0}^{X} \\prod_{k=0}^{n-1}H_k$"
   ]
  },
  {
   "cell_type": "code",
   "execution_count": 22,
   "metadata": {},
   "outputs": [],
   "source": [
    "def ref_gate(n, qc, q, beta):\n",
    "    # W gate\n",
    "    for i in range(0,n):\n",
    "        qc.h(q[i])\n",
    "    for i in range(1,n):\n",
    "        qc.cx(q[i],q[0])\n",
    "        \n",
    "    # apply phase gate\n",
    "    qc.u1(2*beta, q[0])\n",
    "    \n",
    "    for i in range(n-1,0,-1):\n",
    "        qc.cx(q[i],q[0])\n",
    "    for i in range(0,n):\n",
    "        qc.h(q[i])"
   ]
  },
  {
   "cell_type": "markdown",
   "metadata": {},
   "source": [
    "### Cost Gate V\n",
    "\n",
    "$V(\\gamma) = C_{x,y} U_{y}(\\pm\\gamma weight) C_{x,y} U_{x}(\\pm\\gamma weight) U_{y}(\\pm\\gamma weight)$"
   ]
  },
  {
   "cell_type": "code",
   "execution_count": 23,
   "metadata": {},
   "outputs": [],
   "source": [
    "def constraint_gate(n, qc, q, gamma, clauses):\n",
    "    # V gate\n",
    "    # 2-SAT\n",
    "    \n",
    "    # clause[0] is the weight\n",
    "    # clauses will be in form clauses[i] = [-1*x,y] with x and y refering to the qubits we act on, and a negative value\n",
    "    # means a NOT-x\n",
    "    # clauses are also 1-indexed, so be sure to subtract by 1 before reading them!\n",
    "    for clause in clauses:\n",
    "        weight = clause[0]\n",
    "        x = abs(clause[1]) - 1\n",
    "        x_not = clause[1] < 0\n",
    "        # see if the x boolean is a NOT-x\n",
    "        y = abs(clause[2]) - 1\n",
    "        y_not = clause[2] < 0\n",
    "        \n",
    "        \n",
    "        flip = 2*(x_not == y_not) - 1 # flips if x_not xor y_not\n",
    "        qc.cx(q[x],q[y])\n",
    "        qc.u1(flip*-1*gamma*weight,q[y])\n",
    "        qc.cx(q[x],q[y])\n",
    "\n",
    "        flip = -(2*(x_not)-1) # x\n",
    "        qc.u1(flip*-1*gamma*weight,q[x])\n",
    "\n",
    "        flip = -(2*(y_not)-1) # y\n",
    "        qc.u1(flip*-1*gamma*weight,q[y])"
   ]
  },
  {
   "cell_type": "markdown",
   "metadata": {},
   "source": [
    "### Classic Solver"
   ]
  },
  {
   "cell_type": "code",
   "execution_count": 24,
   "metadata": {},
   "outputs": [],
   "source": [
    "def classic(clauses, value):\n",
    "    value = value[::-1]\n",
    "    res = 0\n",
    "    \n",
    "    for clause in clauses:\n",
    "        weight = clause[0]\n",
    "        x = abs(clause[1]) - 1\n",
    "        x_not = clause[1] < 0\n",
    "        # see if the x boolean is a NOT-x\n",
    "        y = abs(clause[2]) - 1\n",
    "        y_not = clause[2] < 0\n",
    "        \n",
    "        result = ((value[x] == '1') != x_not) or ((value[y] == '1') != y_not)\n",
    "        if (result):\n",
    "            res += weight\n",
    "            \n",
    "    return res"
   ]
  },
  {
   "cell_type": "markdown",
   "metadata": {},
   "source": [
    "### Calculating the Expectation\n",
    "Expectation = $\\langle \\gamma,\\beta\\left|C\\right|\\gamma,\\beta\\rangle$"
   ]
  },
  {
   "cell_type": "code",
   "execution_count": 37,
   "metadata": {},
   "outputs": [
    {
     "name": "stdout",
     "output_type": "stream",
     "text": [
      "Expectation: 4.47265625\n"
     ]
    }
   ],
   "source": [
    "def run_qaoa(qc,q,c,n,gamma,beta,clauses):\n",
    "    for i in range(n):\n",
    "        qc.h(q[i])\n",
    "    p = 1\n",
    "    for pp in range(p):\n",
    "        constraint_gate(n, qc, q, gamma, clauses)\n",
    "        ref_gate(n, qc, q, beta)\n",
    "\n",
    "def expectation(gamma, beta, clauses):\n",
    "    \n",
    "    n = 3\n",
    "    q = qiskit.QuantumRegister(n)\n",
    "    c = qiskit.ClassicalRegister(n)\n",
    "    qc = qiskit.QuantumCircuit(q,c)\n",
    "    # q[0..n-1] are input qubits\n",
    "    \n",
    "    run_qaoa(qc,q,c,n,gamma,beta,clauses)\n",
    "    \n",
    "    qc.measure(q, c)\n",
    "    \n",
    "    repetitions = 1024\n",
    "    job = qiskit.execute(qc, backend='local_qasm_simulator', shots=repetitions)\n",
    "    result = job.result().get_counts(qc)\n",
    "    \n",
    "    answer = 0\n",
    "    for key in result.keys():\n",
    "        probability = result[key] / repetitions\n",
    "        answer += probability * classic(clauses, key)\n",
    "        \n",
    "    #print(\"Resulting bitstring after 1024 shot: \"+str(result))\n",
    "\n",
    "    return answer\n",
    "    \n",
    "print(\"Expectation: \"+str(expectation(math.pi/6,math.pi/2, [[1,1,2],[2,-1,-2],[1,-1,2],[2,1,-2]])))"
   ]
  },
  {
   "cell_type": "markdown",
   "metadata": {},
   "source": [
    "### Classically Optimizing *γ* and *β*\n",
    "\n",
    "Randomly pick γ and β and find the best input bitstring.\n",
    "\n",
    "We chose this method over gradient descent because there are several local maximums for our cost function.\n",
    "\n",
    "Our cnf are encoded as a list of 3-element lists. Each element begins with the weight of the clause, then the 1-indexed variable to use. The negative sign means to apply $not$ on the following variable.\n",
    "\n",
    "For example, the cnf $(a \\vee b)_3 \\wedge (a \\vee \\neg b)_5$ (where subscript denotes the weight of each clause) can be represented by [[3,1,2],[5,1,-2]]"
   ]
  },
  {
   "cell_type": "code",
   "execution_count": 26,
   "metadata": {},
   "outputs": [
    {
     "name": "stdout",
     "output_type": "stream",
     "text": [
      "Expectation: 2.9609375\n",
      "Resulting bitstring after 1 shot: {'111': 1}\n",
      "Cost of this bitstring(big is better): 3\n",
      "Expectation: 3.060546875\n",
      "Resulting bitstring after 1 shot: {'111': 1}\n",
      "Cost of this bitstring(big is better): 3\n",
      "Expectation: 3.0869140625\n"
     ]
    },
    {
     "name": "stderr",
     "output_type": "stream",
     "text": [
      "C:\\Users\\GahwonLee\\Anaconda3\\lib\\site-packages\\qiskit\\backends\\local\\qasm_simulator_cpp.py:88: DeprecationWarning: The behavior of getting statevector from simulators by setting shots=1 is deprecated and will be removed. Use the local_statevector_simulator instead, or place explicit snapshot instructions.\n",
      "  DeprecationWarning)\n",
      "C:\\Users\\GahwonLee\\Anaconda3\\lib\\site-packages\\qiskit\\backends\\local\\qasm_simulator_cpp.py:88: DeprecationWarning: The behavior of getting statevector from simulators by setting shots=1 is deprecated and will be removed. Use the local_statevector_simulator instead, or place explicit snapshot instructions.\n",
      "  DeprecationWarning)\n"
     ]
    },
    {
     "name": "stdout",
     "output_type": "stream",
     "text": [
      "Resulting bitstring after 1 shot: {'111': 1}\n",
      "Cost of this bitstring(big is better): 3\n",
      "Expectation: 2.8603515625\n",
      "Resulting bitstring after 1 shot: {'100': 1}\n",
      "Cost of this bitstring(big is better): 2\n",
      "Expectation: 3.1708984375\n",
      "Resulting bitstring after 1 shot: {'111': 1}\n",
      "Cost of this bitstring(big is better): 3\n"
     ]
    },
    {
     "name": "stderr",
     "output_type": "stream",
     "text": [
      "C:\\Users\\GahwonLee\\Anaconda3\\lib\\site-packages\\qiskit\\backends\\local\\qasm_simulator_cpp.py:88: DeprecationWarning: The behavior of getting statevector from simulators by setting shots=1 is deprecated and will be removed. Use the local_statevector_simulator instead, or place explicit snapshot instructions.\n",
      "  DeprecationWarning)\n",
      "C:\\Users\\GahwonLee\\Anaconda3\\lib\\site-packages\\qiskit\\backends\\local\\qasm_simulator_cpp.py:88: DeprecationWarning: The behavior of getting statevector from simulators by setting shots=1 is deprecated and will be removed. Use the local_statevector_simulator instead, or place explicit snapshot instructions.\n",
      "  DeprecationWarning)\n",
      "C:\\Users\\GahwonLee\\Anaconda3\\lib\\site-packages\\qiskit\\backends\\local\\qasm_simulator_cpp.py:88: DeprecationWarning: The behavior of getting statevector from simulators by setting shots=1 is deprecated and will be removed. Use the local_statevector_simulator instead, or place explicit snapshot instructions.\n",
      "  DeprecationWarning)\n"
     ]
    },
    {
     "name": "stdout",
     "output_type": "stream",
     "text": [
      "Expectation: 2.953125\n",
      "Resulting bitstring after 1 shot: {'100': 1}\n",
      "Cost of this bitstring(big is better): 2\n",
      "Expectation: 3.25\n",
      "Resulting bitstring after 1 shot: {'101': 1}\n",
      "Cost of this bitstring(big is better): 3\n",
      "Expectation: 2.9111328125\n",
      "Resulting bitstring after 1 shot: {'101': 1}\n",
      "Cost of this bitstring(big is better): 3\n",
      "And the best bitstring is 111 with a cost of 3\n"
     ]
    },
    {
     "name": "stderr",
     "output_type": "stream",
     "text": [
      "C:\\Users\\GahwonLee\\Anaconda3\\lib\\site-packages\\qiskit\\backends\\local\\qasm_simulator_cpp.py:88: DeprecationWarning: The behavior of getting statevector from simulators by setting shots=1 is deprecated and will be removed. Use the local_statevector_simulator instead, or place explicit snapshot instructions.\n",
      "  DeprecationWarning)\n",
      "C:\\Users\\GahwonLee\\Anaconda3\\lib\\site-packages\\qiskit\\backends\\local\\qasm_simulator_cpp.py:88: DeprecationWarning: The behavior of getting statevector from simulators by setting shots=1 is deprecated and will be removed. Use the local_statevector_simulator instead, or place explicit snapshot instructions.\n",
      "  DeprecationWarning)\n",
      "C:\\Users\\GahwonLee\\Anaconda3\\lib\\site-packages\\qiskit\\backends\\local\\qasm_simulator_cpp.py:88: DeprecationWarning: The behavior of getting statevector from simulators by setting shots=1 is deprecated and will be removed. Use the local_statevector_simulator instead, or place explicit snapshot instructions.\n",
      "  DeprecationWarning)\n"
     ]
    }
   ],
   "source": [
    "cnf = [[1,1,3],[1,-1,-2],[1,1,-3],[1,-3,2]]\n",
    "max = 0\n",
    "best_bitstring = \"\"\n",
    "for i in range(8):\n",
    "    beta = rand.uniform(0,math.pi)\n",
    "    gamma = rand.uniform(0,math.pi/2)\n",
    "    print(\"Expectation: \"+str(expectation(gamma,beta,cnf)))\n",
    "    \n",
    "    n = 3\n",
    "    q = qiskit.QuantumRegister(n)\n",
    "    c = qiskit.ClassicalRegister(n)\n",
    "    qc = qiskit.QuantumCircuit(q,c)\n",
    "    \n",
    "    run_qaoa(qc,q,c,n,gamma,beta,cnf)\n",
    "    qc.measure(q,c)\n",
    "    job = qiskit.execute(qc, backend='local_qasm_simulator', shots=1)\n",
    "    result = job.result().get_counts(qc)\n",
    "    print(\"Resulting bitstring after 1 shot: \"+str(result))\n",
    "    cost = classic(cnf,next(iter(result.keys())))\n",
    "    if max < cost:\n",
    "        max = cost\n",
    "        best_bitstring = next(iter(result.keys()))\n",
    "    print(\"Cost of this bitstring(big is better): \"+str(cost))\n",
    "    \n",
    "print(\"And the best bitstring is \"+ best_bitstring+\" with a cost of \"+str(max))"
   ]
  },
  {
   "cell_type": "markdown",
   "metadata": {},
   "source": [
    "### Plotting\n",
    "We kept the $\\beta$ value constant"
   ]
  },
  {
   "cell_type": "code",
   "execution_count": 27,
   "metadata": {},
   "outputs": [
    {
     "data": {
      "image/png": "[encoded data removed]",
      "text/plain": [
       "<Figure size 432x288 with 1 Axes>"
      ]
     },
     "metadata": {},
     "output_type": "display_data"
    }
   ],
   "source": [
    "g = np.linspace(0, 2 * math.pi, 100)\n",
    "b = 5 * math.pi / 6\n",
    "'''cnf = [[1,1,2],[1,-1,2],[1,1,-2],[1,-1,-2],\n",
    "       [1,1,3],[1,-1,3],[2,1,-3],[3,-1,-3],\n",
    "       [1,2,3],[2,-2,3],[1,2,-3],[2,-2,-3]]'''\n",
    "cnf = [[1,1,3],[1,-1,-2],[1,1,-3],[1,-3,2]]\n",
    "\n",
    "# clause format is [weight,1st var, 2nd var]\n",
    "def f(x):\n",
    "    return expectation(x, b, cnf)\n",
    "\n",
    "plt.plot(g, np.array([f(x) for x in g]))\n",
    "plt.xlabel('gamma')\n",
    "plt.ylabel('expectation')\n",
    "plt.title('Effect of gamma on QAOA Weighted 2-SAT')\n",
    "plt.show()"
   ]
  },
  {
   "cell_type": "code",
   "execution_count": 38,
   "metadata": {},
   "outputs": [
    {
     "data": {
      "image/png": "[encoded data removed]",
      "text/plain": [
       "<Figure size 432x288 with 1 Axes>"
      ]
     },
     "metadata": {},
     "output_type": "display_data"
    }
   ],
   "source": [
    "g = np.linspace(0, 2 * math.pi, 40)\n",
    "b = np.linspace(0, math.pi, 10)\n",
    "gamma, beta = np.meshgrid(g, b)\n",
    "cnf = [[1,1,3],[1,-1,-2],[1,1,-3],[1,-3,2]]\n",
    "\n",
    "\n",
    "fig = plt.figure()\n",
    "ax = fig.add_subplot(111, projection='3d')\n",
    "ax.plot_surface(gamma, beta, np.array([expectation(x, y, cnf) for x,y in zip(np.ravel(gamma), np.ravel(beta))]).reshape(gamma.shape))\n",
    "\n",
    "plt.xlabel('gamma')\n",
    "plt.ylabel('beta')\n",
    "\n",
    "plt.title('Effect of gamma and beta on QAOA Weighted 2-SAT')\n",
    "plt.show()"
   ]
  },
  {
   "cell_type": "markdown",
   "metadata": {},
   "source": [
    "## Results and Discussion\n",
    "\n",
    "As you can see the 2D and 3D graphs above, our simple 2SAT problem has some very stable curves. Be warned, these graphs take several minutes to create.\n",
    "\n",
    "Our classical optimization algorithm almost always gets the correct value, but that is because we iterate 8 times."
   ]
  },
  {
   "cell_type": "markdown",
   "metadata": {},
   "source": [
    "## Conclusion\n",
    "\n",
    "### Was QAOA effective in finding decent solutions?\n",
    "\n",
    "Yes, but by the nature of 2SAT, any bitstring would have been a decent solution.\n",
    "\n",
    "### What % of the optimum solution did QAOA achieve?\n",
    "\n",
    "QAOA constantly got very close to the optimal solution with a depth of 1. However, this is likely due to the fact that our functions were extremely simple and trivial to solve. We used simple functions to test QAOA because the computer could not efficiently simulate a quantum computer for more than a few qubits.\n",
    "\n",
    "### Does the technique have any issues?\n",
    "\n",
    "Calculating the Expectation value takes ages because we have to run multiple shots, and for each of those shots we have to evaluate the bitstring pertaining to that shot classically. Because there's so many shots, there is likely to be $2^n$ classical evaluations, destroying the optimization part of this algorithm."
   ]
  },
  {
   "cell_type": "markdown",
   "metadata": {},
   "source": [
    "### Weighted 3SAT\n",
    "\n",
    "We decided to expand our experiment to include 3-SAT as well."
   ]
  },
  {
   "cell_type": "code",
   "execution_count": 29,
   "metadata": {},
   "outputs": [],
   "source": [
    "### Weighted 3SAT\n",
    "def constraint_3sat(n, qc, q, gamma, clauses):\n",
    "    for clause in clauses:\n",
    "\n",
    "        weight = clause[0]\n",
    "        x = abs(clause[1]) - 1\n",
    "        x_not = clause[1] < 0\n",
    "        # see if the x boolean is a NOT-x\n",
    "        y = abs(clause[2]) - 1\n",
    "        y_not = clause[2] < 0\n",
    "        z = abs(clause[3]) - 1\n",
    "        z_not = clause[3] < 0\n",
    "\n",
    "        flip = 2*((x_not+y_not+z_not)%2 == 0) - 1\n",
    "        qc.cx(q[z],q[x])\n",
    "        qc.cx(q[y],q[x])\n",
    "        qc.u1(flip*-1 * gamma * weight,q[x])\n",
    "        qc.cx(q[y],q[x])\n",
    "        qc.cx(q[z],q[x])\n",
    "\n",
    "        flip = 2*(z_not == y_not) - 1 # flips if z_not xor y_not\n",
    "        qc.cx(q[y],q[z])\n",
    "        qc.u1(flip * -1 * gamma * weight,q[z])\n",
    "        qc.cx(q[y],q[z])\n",
    "\n",
    "        flip = 2*(x_not == y_not) - 1 # flips if x_not xor y_not\n",
    "        qc.cx(q[y],q[x])\n",
    "        qc.u1(flip * -1 * gamma * weight,q[x])\n",
    "        qc.cx(q[y],q[x])\n",
    "\n",
    "        flip = 2*(x_not == z_not) - 1 # flips if z_not xor x_not\n",
    "        qc.cx(q[z],q[x])\n",
    "        qc.u1(flip * -1 * gamma * weight,q[x])\n",
    "        qc.cx(q[z],q[x])\n",
    "\n",
    "        flip = -(2*(x_not)-1) # x\n",
    "        qc.u1(flip*-1*gamma*weight,q[x])\n",
    "\n",
    "        flip = -(2*(y_not)-1) # y\n",
    "        qc.u1(flip*-1*gamma*weight,q[y])\n",
    "\n",
    "        flip = -(2*(z_not)-1) # z\n",
    "        qc.u1(flip*-1*gamma*weight,q[z])\n"
   ]
  },
  {
   "cell_type": "markdown",
   "metadata": {},
   "source": [
    "### Classic 3SAT Verifier"
   ]
  },
  {
   "cell_type": "code",
   "execution_count": 30,
   "metadata": {},
   "outputs": [],
   "source": [
    "def classic_3sat(clauses, value):\n",
    "    value = value[::-1]\n",
    "    res = 0\n",
    "    \n",
    "    for clause in clauses:\n",
    "        weight = clause[0]\n",
    "        x = abs(clause[1]) - 1\n",
    "        x_not = clause[1] < 0\n",
    "        # see if the x boolean is a NOT-x\n",
    "        y = abs(clause[2]) - 1\n",
    "        y_not = clause[2] < 0\n",
    "        z = abs(clause[3]) - 1\n",
    "        z_not = clause[3] < 0\n",
    "        \n",
    "        result = ((value[x] == '1') != x_not) or ((value[y] == '1') != y_not) or ((value[z] == '1') != z_not)\n",
    "        if (result):\n",
    "            res += weight\n",
    "            \n",
    "    return res"
   ]
  },
  {
   "cell_type": "markdown",
   "metadata": {},
   "source": [
    "### Functions to run QAOA and calculate the Expectation value"
   ]
  },
  {
   "cell_type": "code",
   "execution_count": 31,
   "metadata": {},
   "outputs": [],
   "source": [
    "def run_qaoa_3sat(qc,q,c,n,gamma,beta,clauses):\n",
    "   \n",
    "    constraint_3sat(n, qc, q, gamma, clauses)\n",
    "    ref_gate(n, qc, q, beta)\n",
    "\n",
    "def expectation_3sat(n, gamma, beta, prev_gamma, prev_beta, clauses):\n",
    "    \n",
    "    q = qiskit.QuantumRegister(n)    # q[0..n-1] are input qubits (they're all input qubits)\n",
    "    c = qiskit.ClassicalRegister(n)\n",
    "    qc = qiskit.QuantumCircuit(q,c)\n",
    "    for i in range(n):\n",
    "        # Apply the hadamards to the qubits\n",
    "        qc.h(q[i])\n",
    "        \n",
    "    for i in range(len(prev_gamma)):\n",
    "        # Apply every previous iteration's (beta, gamma) value\n",
    "        run_qaoa_3sat(qc,q,c,n,prev_gamma[i],prev_beta[i],clauses)\n",
    "\n",
    "    run_qaoa_3sat(qc,q,c,n,gamma,beta,clauses)\n",
    "    qc.measure(q, c)\n",
    "\n",
    "    repetitions = 1024\n",
    "    job = qiskit.execute(qc, backend='local_qasm_simulator', shots=repetitions)\n",
    "    result = job.result().get_counts(qc)\n",
    "\n",
    "    answer = 0\n",
    "    for key in result.keys():\n",
    "        probability = result[key] / repetitions\n",
    "        answer += probability * classic_3sat(clauses, key)\n",
    "\n",
    "    #print(\"Resulting bitstring after 1024 shot: \"+str(result))\n",
    "\n",
    "    return answer\n",
    "#print(\"Expectation: \"+str(expectation(math.pi/6,math.pi/2, [[1,1,2,3],[2,1,-2,3],[1,-1,2,4],[2,1,-2,3]])))"
   ]
  },
  {
   "cell_type": "markdown",
   "metadata": {},
   "source": [
    "### Running QAOA for 3SAT"
   ]
  },
  {
   "cell_type": "code",
   "execution_count": 32,
   "metadata": {},
   "outputs": [
    {
     "name": "stdout",
     "output_type": "stream",
     "text": [
      "Expectation: 52.4697265625\n",
      "Expectation: 52.486328125\n",
      "Expectation: 52.6953125\n",
      "Expectation: 52.21875\n",
      "p=0: (gamma,beta): (0.9906997941782197,2.261567256297609) | expectation: 52.6953125| average: 52.467529296875\n",
      "Expectation: 52.7783203125\n",
      "Expectation: 51.7705078125\n",
      "Expectation: 52.8212890625\n",
      "Expectation: 52.1552734375\n",
      "p=1: (gamma,beta): (0.5136502199124703,2.385929498862692) | expectation: 52.8212890625| average: 52.38134765625\n",
      "Expectation: 51.86328125\n",
      "Expectation: 52.4384765625\n",
      "Expectation: 51.73046875\n",
      "Expectation: 52.79296875\n",
      "p=2: (gamma,beta): (0.9757762542216237,0.7793392843784618) | expectation: 52.79296875| average: 52.206298828125\n",
      "Expectation: 53.072265625\n",
      "Expectation: 51.7841796875\n",
      "Expectation: 53.3642578125\n",
      "Expectation: 51.673828125\n",
      "p=3: (gamma,beta): (0.45480332494057507,0.4650849055380874) | expectation: 53.3642578125| average: 52.4736328125\n"
     ]
    }
   ],
   "source": [
    "#cnf = [[1,1,2,3],[2,1,2,-3],[1,1,-2,3],[3,1,-2,-3],[2,-1,2,3],[1,-1,2,-3],[1,-1,-2,3],[1,-1,-2,-3]]\n",
    "cnf = [[1,4,3,5],[1,-4,-5,-1],[1,5,-2,-6],[1,-4,-5,-2],[1,1,3,-5],[1,-4,-3,1],[1,5,-3,4],[1,-1,2,-4],[1,-2,6,5],[1,-3,-6,-2],[1,-3,1,-6],[1,-3,-4,1],[1,4,1,5],[1,3,-4,-1],[1,-1,5,-2],[1,2,-6,-3],[1,6,3,1],[1,-2,5,3],[1,1,-6,5],[1,-5,-6,-3],[1,1,2,-5],[1,3,-1,-4],[1,-3,2,-5],[1,5,6,-4],[1,6,3,-5],[1,-2,-1,3],[1,2,1,6],[1,-1,-5,2],[1,-4,1,3],[1,4,-6,-2],[1,-1,3,6],[1,5,-6,3],[1,-6,1,-4],[1,-4,1,5],[1,-3,6,-1],[1,-5,-2,1],[1,1,6,5],[1,-3,5,2],[1,-4,5,2],[1,5,-1,3],[1,-2,6,5],[1,3,4,5],[1,-6,3,1],[1,4,-1,5],[1,-4,6,-2],[1,-6,5,3],[1,3,-2,-1],[1,-6,-5,-2],[1,4,6,2],[1,-5,4,3],[1,3,4,-5],[1,4,5,-6],[1,-3,-6,-2],[1,5,-4,3],[1,1,-4,-3],[1,2,5,-4],[1,4,5,-2],[1,-3,-1,5],[1,-5,6,-2],[1,-1,-5,-6],]\n",
    "max = 0\n",
    "best_bitstring = \"\"\n",
    "n = 6\n",
    "depth = 4\n",
    "best_expectation = []\n",
    "best_gamma = []\n",
    "best_beta = []\n",
    "for p in range(depth):\n",
    "    best_expectation.append(0)\n",
    "    best_gamma.append(0)\n",
    "    best_beta.append(0)\n",
    "    average = 0\n",
    "    for i in range(4):\n",
    "\n",
    "        beta = rand.uniform(0,math.pi)\n",
    "        gamma = rand.uniform(0,math.pi/2)\n",
    "        expectation = expectation_3sat(n,gamma,beta,best_gamma,best_beta,cnf)\n",
    "        print(\"Expectation: \"+str(expectation))\n",
    "        if expectation > best_expectation[p]:\n",
    "            best_gamma[p] = gamma\n",
    "            best_beta[p] = beta\n",
    "            best_expectation[p] = expectation\n",
    "        average += expectation\n",
    "    average = average/4\n",
    "    print(\"p=\"+str(p)+\": (gamma,beta): (\"+str(best_gamma[p])+\",\"+str(best_beta[p])+\") | expectation: \"+str(best_expectation[p])+\"| average: \"+str(average))\n",
    "#print(\"Best Bitstring is \"+ best_bitstring+\" | Cost: \"+str(max))\n",
    "\n"
   ]
  },
  {
   "cell_type": "markdown",
   "metadata": {},
   "source": [
    "### Graph 3SAT"
   ]
  },
  {
   "cell_type": "code",
   "execution_count": 40,
   "metadata": {},
   "outputs": [
    {
     "data": {
      "image/png": "[encoded data removed]",
      "text/plain": [
       "<Figure size 432x288 with 1 Axes>"
      ]
     },
     "metadata": {},
     "output_type": "display_data"
    }
   ],
   "source": [
    "g = np.linspace(0, 2 * math.pi, 100)\n",
    "b = 5 * math.pi / 6\n",
    "#cnf = [[1,1,2,3],[2,1,2,-3],[1,1,-2,3],[3,1,-2,-3],[2,-1,2,3],[1,-1,2,-3],[1,-1,-2,3],[1,-1,-2,-3]]\n",
    "cnf = [[1,-5,3,-1],[1,4,3,-1],[1,2,-1,-5],[1,5,-3,-6],[1,1,3,4],\n",
    "       [1,-2,5,6],[1,3,-6,-5],[1,4,-2,-6],[1,-1,-2,5],[1,1,-3,-4]]\n",
    "# clause format is [weight,1st var, 2nd var]\n",
    "def f(x):\n",
    "    return expectation_3sat(6, x, b, [], [], cnf)\n",
    "\n",
    "plt.plot(g, np.array([f(x) for x in g]))\n",
    "plt.xlabel('gamma')\n",
    "plt.ylabel('expectation')\n",
    "plt.title('Effect of gamma on QAOA Weighted 3-SAT')\n",
    "plt.show()"
   ]
  },
  {
   "cell_type": "markdown",
   "metadata": {},
   "source": [
    "### Classic 3-SAT Solver\n",
    "For testing only"
   ]
  },
  {
   "cell_type": "code",
   "execution_count": 54,
   "metadata": {},
   "outputs": [],
   "source": [
    "def classic3sat(clauses, n):\n",
    "    \"\"\"clauses = cnf to solve, n = number of variables used\"\"\"\n",
    "    ans = [0] * (2 ** n)\n",
    "    for clause in clauses:\n",
    "        weight = clause[0]\n",
    "        sat = [False] * (2 ** n)\n",
    "        for i in range(1, 4):\n",
    "            var = abs(clause[i]) - 1\n",
    "            negate = clause[i] < 0\n",
    "            for j in range(0, len(sat)):\n",
    "                if ((j & (1 << var)) != 0) != negate:\n",
    "                    sat[j] = True\n",
    "        for i in range(0, len(sat)):\n",
    "            if sat[i]:\n",
    "                ans[i] += weight\n",
    "    \n",
    "    maxExpectationIndex = 0\n",
    "    maxExpectationIndices = [0]\n",
    "    for i in range(1, len(ans)):\n",
    "        if ans[i] > ans[maxExpectationIndex]:\n",
    "            maxExpectationIndices = [i]\n",
    "            maxExpectationIndex = i\n",
    "        elif ans[i] == ans[maxExpectationIndex]:\n",
    "            maxExpectationIndices.append(i)\n",
    "    \n",
    "    print(\"Maximum Expectation: \" + str(ans[maxExpectationIndex]))\n",
    "    print(\"Inputs:\")\n",
    "    for i in maxExpectationIndices:\n",
    "        print(format(i, \"0\" + str(n) + \"b\"))"
   ]
  },
  {
   "cell_type": "code",
   "execution_count": null,
   "metadata": {},
   "outputs": [],
   "source": []
  }
 ],
 "metadata": {
  "kernelspec": {
   "display_name": "Python 3",
   "language": "python",
   "name": "python3"
  },
  "language_info": {
   "codemirror_mode": {
    "name": "ipython",
    "version": 3
   },
   "file_extension": ".py",
   "mimetype": "text/x-python",
   "name": "python",
   "nbconvert_exporter": "python",
   "pygments_lexer": "ipython3",
   "version": "3.6.5"
  }
 },
 "nbformat": 4,
 "nbformat_minor": 2
}
